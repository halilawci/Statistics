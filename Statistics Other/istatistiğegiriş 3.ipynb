{
 "cells": [
  {
   "cell_type": "code",
   "execution_count": 2,
   "id": "17cccfa2",
   "metadata": {},
   "outputs": [],
   "source": [
    "import numpy as np\n",
    "import pandas as pd"
   ]
  },
  {
   "cell_type": "code",
   "execution_count": 3,
   "id": "19ab868a",
   "metadata": {},
   "outputs": [],
   "source": [
    "df = pd.DataFrame(np.random.randint(3,120, size = 15))"
   ]
  },
  {
   "cell_type": "code",
   "execution_count": 4,
   "id": "1ee4e9fc",
   "metadata": {},
   "outputs": [
    {
     "data": {
      "text/plain": [
       "0    582.980952\n",
       "dtype: float64"
      ]
     },
     "execution_count": 4,
     "metadata": {},
     "output_type": "execute_result"
    }
   ],
   "source": [
    "df.var()"
   ]
  },
  {
   "cell_type": "code",
   "execution_count": 5,
   "id": "45335f42",
   "metadata": {},
   "outputs": [
    {
     "data": {
      "text/plain": [
       "0    24.144998\n",
       "dtype: float64"
      ]
     },
     "execution_count": 5,
     "metadata": {},
     "output_type": "execute_result"
    }
   ],
   "source": [
    "df.std()"
   ]
  },
  {
   "cell_type": "code",
   "execution_count": 6,
   "id": "9b155b93",
   "metadata": {},
   "outputs": [
    {
     "data": {
      "text/plain": [
       "0    65.133333\n",
       "dtype: float64"
      ]
     },
     "execution_count": 6,
     "metadata": {},
     "output_type": "execute_result"
    }
   ],
   "source": [
    "df.mean()"
   ]
  },
  {
   "cell_type": "code",
   "execution_count": 7,
   "id": "bf11a172",
   "metadata": {},
   "outputs": [
    {
     "data": {
      "text/plain": [
       "0    74.0\n",
       "dtype: float64"
      ]
     },
     "execution_count": 7,
     "metadata": {},
     "output_type": "execute_result"
    }
   ],
   "source": [
    "df.median()"
   ]
  },
  {
   "cell_type": "code",
   "execution_count": null,
   "id": "f8f35893",
   "metadata": {},
   "outputs": [],
   "source": [
    "# Örneklem"
   ]
  },
  {
   "cell_type": "code",
   "execution_count": 36,
   "id": "e63b3b97",
   "metadata": {},
   "outputs": [
    {
     "data": {
      "text/plain": [
       "41.997926666666665"
      ]
     },
     "execution_count": 36,
     "metadata": {},
     "output_type": "execute_result"
    }
   ],
   "source": [
    "hasta=np.random.randint(5,80,size=150000)\n",
    "hasta.mean()"
   ]
  },
  {
   "cell_type": "code",
   "execution_count": 10,
   "id": "a643d300",
   "metadata": {},
   "outputs": [],
   "source": [
    "np.random.seed(210)\n",
    "orneklem1=np.random.choice(a=hasta, size=200)"
   ]
  },
  {
   "cell_type": "code",
   "execution_count": 12,
   "id": "c4a594a1",
   "metadata": {},
   "outputs": [
    {
     "data": {
      "text/plain": [
       "40.435"
      ]
     },
     "execution_count": 12,
     "metadata": {},
     "output_type": "execute_result"
    }
   ],
   "source": [
    "orneklem1.mean()"
   ]
  },
  {
   "cell_type": "code",
   "execution_count": 14,
   "id": "e45ab869",
   "metadata": {},
   "outputs": [],
   "source": [
    "np.random.seed(210)\n",
    "orneklem2=np.random.choice(a=hasta, size=200)\n",
    "orneklem3=np.random.choice(a=hasta, size=200)\n",
    "orneklem4=np.random.choice(a=hasta, size=200)\n",
    "orneklem5=np.random.choice(a=hasta, size=200)\n",
    "orneklem6=np.random.choice(a=hasta, size=200)\n",
    "orneklem7=np.random.choice(a=hasta, size=200)\n",
    "orneklem8=np.random.choice(a=hasta, size=200)\n",
    "orneklem9=np.random.choice(a=hasta, size=200)"
   ]
  },
  {
   "cell_type": "code",
   "execution_count": 15,
   "id": "23b5a8a1",
   "metadata": {},
   "outputs": [],
   "source": [
    "np.random.seed(10)\n",
    "orneklem10=np.random.choice(a=hasta, size=200)"
   ]
  },
  {
   "cell_type": "code",
   "execution_count": 16,
   "id": "d6a09abc",
   "metadata": {},
   "outputs": [
    {
     "data": {
      "text/plain": [
       "40.435"
      ]
     },
     "execution_count": 16,
     "metadata": {},
     "output_type": "execute_result"
    }
   ],
   "source": [
    "orneklem2.mean()"
   ]
  },
  {
   "cell_type": "code",
   "execution_count": 18,
   "id": "a376d8e1",
   "metadata": {},
   "outputs": [
    {
     "data": {
      "text/plain": [
       "40.13"
      ]
     },
     "execution_count": 18,
     "metadata": {},
     "output_type": "execute_result"
    }
   ],
   "source": [
    "orneklem10.mean()"
   ]
  },
  {
   "cell_type": "code",
   "execution_count": 19,
   "id": "d107a88a",
   "metadata": {},
   "outputs": [
    {
     "data": {
      "text/plain": [
       "42.175"
      ]
     },
     "execution_count": 19,
     "metadata": {},
     "output_type": "execute_result"
    }
   ],
   "source": [
    "orneklem3.mean()"
   ]
  },
  {
   "cell_type": "code",
   "execution_count": 20,
   "id": "c24b4385",
   "metadata": {},
   "outputs": [
    {
     "data": {
      "text/plain": [
       "42.52357142857143"
      ]
     },
     "execution_count": 20,
     "metadata": {},
     "output_type": "execute_result"
    }
   ],
   "source": [
    "(orneklem2.mean()+orneklem3.mean()+orneklem4.mean()+orneklem5.mean()+orneklem6.mean()+orneklem7.mean()+orneklem8.mean())/7"
   ]
  },
  {
   "cell_type": "code",
   "execution_count": 22,
   "id": "d704ce22",
   "metadata": {},
   "outputs": [
    {
     "data": {
      "text/plain": [
       "42.00128"
      ]
     },
     "execution_count": 22,
     "metadata": {},
     "output_type": "execute_result"
    }
   ],
   "source": [
    "hasta.mean()"
   ]
  },
  {
   "cell_type": "code",
   "execution_count": 23,
   "id": "62130b6e",
   "metadata": {},
   "outputs": [
    {
     "data": {
      "text/plain": [
       "40.435"
      ]
     },
     "execution_count": 23,
     "metadata": {},
     "output_type": "execute_result"
    }
   ],
   "source": [
    "orneklem1.mean()"
   ]
  },
  {
   "cell_type": "code",
   "execution_count": 24,
   "id": "cec02382",
   "metadata": {},
   "outputs": [],
   "source": [
    "# Hem örneklem sayısı hem de, örneklemdeki veriler arttıkça ana veriye daha çok yaklaşılır."
   ]
  },
  {
   "cell_type": "code",
   "execution_count": 88,
   "id": "804c0b64",
   "metadata": {},
   "outputs": [],
   "source": [
    "hasta=np.random.randint(5,80, size=150000)"
   ]
  },
  {
   "cell_type": "code",
   "execution_count": 89,
   "id": "fa83f704",
   "metadata": {},
   "outputs": [],
   "source": [
    "np.random.seed(10)\n",
    "erkek=pd.DataFrame(np.random.choice(hasta, size=40000))"
   ]
  },
  {
   "cell_type": "code",
   "execution_count": 90,
   "id": "6d4b8e61",
   "metadata": {},
   "outputs": [],
   "source": [
    "np.random.seed(9)\n",
    "bayan=pd.DataFrame(np.random.choice(hasta, size=40000))"
   ]
  },
  {
   "cell_type": "code",
   "execution_count": 91,
   "id": "76e74731",
   "metadata": {},
   "outputs": [],
   "source": [
    "hasta=pd.DataFrame(hasta)\n",
    "erkek=pd.DataFrame(erkek)\n",
    "bayan=pd.DataFrame(bayan)"
   ]
  },
  {
   "cell_type": "code",
   "execution_count": 92,
   "id": "0bf1922e",
   "metadata": {},
   "outputs": [],
   "source": [
    "erkek.columns=[\"Erkek\"]\n",
    "bayan.columns=[\"Bayan\"]"
   ]
  },
  {
   "cell_type": "code",
   "execution_count": 93,
   "id": "6d81df94",
   "metadata": {},
   "outputs": [
    {
     "data": {
      "text/html": [
       "<div>\n",
       "<style scoped>\n",
       "    .dataframe tbody tr th:only-of-type {\n",
       "        vertical-align: middle;\n",
       "    }\n",
       "\n",
       "    .dataframe tbody tr th {\n",
       "        vertical-align: top;\n",
       "    }\n",
       "\n",
       "    .dataframe thead th {\n",
       "        text-align: right;\n",
       "    }\n",
       "</style>\n",
       "<table border=\"1\" class=\"dataframe\">\n",
       "  <thead>\n",
       "    <tr style=\"text-align: right;\">\n",
       "      <th></th>\n",
       "      <th>Bayan</th>\n",
       "      <th>Erkek</th>\n",
       "    </tr>\n",
       "  </thead>\n",
       "  <tbody>\n",
       "    <tr>\n",
       "      <th>0</th>\n",
       "      <td>9</td>\n",
       "      <td>29</td>\n",
       "    </tr>\n",
       "    <tr>\n",
       "      <th>1</th>\n",
       "      <td>28</td>\n",
       "      <td>22</td>\n",
       "    </tr>\n",
       "    <tr>\n",
       "      <th>2</th>\n",
       "      <td>13</td>\n",
       "      <td>10</td>\n",
       "    </tr>\n",
       "    <tr>\n",
       "      <th>3</th>\n",
       "      <td>42</td>\n",
       "      <td>57</td>\n",
       "    </tr>\n",
       "    <tr>\n",
       "      <th>4</th>\n",
       "      <td>53</td>\n",
       "      <td>19</td>\n",
       "    </tr>\n",
       "  </tbody>\n",
       "</table>\n",
       "</div>"
      ],
      "text/plain": [
       "   Bayan  Erkek\n",
       "0      9     29\n",
       "1     28     22\n",
       "2     13     10\n",
       "3     42     57\n",
       "4     53     19"
      ]
     },
     "execution_count": 93,
     "metadata": {},
     "output_type": "execute_result"
    }
   ],
   "source": [
    "hasta=pd.concat([bayan,erkek],axis=1)\n",
    "hasta.head()"
   ]
  },
  {
   "cell_type": "code",
   "execution_count": null,
   "id": "7720433e",
   "metadata": {},
   "outputs": [],
   "source": [
    "# Kovaryans ve korelasyon: İki örneklem veya iki değişken arasındaki ilişki yapısını inceler.\n",
    "# Bu ilişki yapısını incelerken"
   ]
  },
  {
   "cell_type": "code",
   "execution_count": 98,
   "id": "2dcdfb7e",
   "metadata": {},
   "outputs": [
    {
     "data": {
      "text/plain": [
       "-0.5002960842771083"
      ]
     },
     "execution_count": 98,
     "metadata": {},
     "output_type": "execute_result"
    }
   ],
   "source": [
    "hasta[\"Bayan\"].cov(hasta[\"Erkek\"])"
   ]
  },
  {
   "cell_type": "code",
   "execution_count": 99,
   "id": "f2e2befb",
   "metadata": {},
   "outputs": [
    {
     "data": {
      "text/html": [
       "<div>\n",
       "<style scoped>\n",
       "    .dataframe tbody tr th:only-of-type {\n",
       "        vertical-align: middle;\n",
       "    }\n",
       "\n",
       "    .dataframe tbody tr th {\n",
       "        vertical-align: top;\n",
       "    }\n",
       "\n",
       "    .dataframe thead th {\n",
       "        text-align: right;\n",
       "    }\n",
       "</style>\n",
       "<table border=\"1\" class=\"dataframe\">\n",
       "  <thead>\n",
       "    <tr style=\"text-align: right;\">\n",
       "      <th></th>\n",
       "      <th>Bayan</th>\n",
       "      <th>Erkek</th>\n",
       "    </tr>\n",
       "  </thead>\n",
       "  <tbody>\n",
       "    <tr>\n",
       "      <th>Bayan</th>\n",
       "      <td>471.496894</td>\n",
       "      <td>-0.500296</td>\n",
       "    </tr>\n",
       "    <tr>\n",
       "      <th>Erkek</th>\n",
       "      <td>-0.500296</td>\n",
       "      <td>470.369432</td>\n",
       "    </tr>\n",
       "  </tbody>\n",
       "</table>\n",
       "</div>"
      ],
      "text/plain": [
       "            Bayan       Erkek\n",
       "Bayan  471.496894   -0.500296\n",
       "Erkek   -0.500296  470.369432"
      ]
     },
     "execution_count": 99,
     "metadata": {},
     "output_type": "execute_result"
    }
   ],
   "source": [
    "hasta[[\"Bayan\",\"Erkek\"]].cov()"
   ]
  },
  {
   "cell_type": "code",
   "execution_count": 102,
   "id": "f0d771ec",
   "metadata": {},
   "outputs": [
    {
     "data": {
      "text/plain": [
       "-0.0010623512679396121"
      ]
     },
     "execution_count": 102,
     "metadata": {},
     "output_type": "execute_result"
    }
   ],
   "source": [
    "hasta[\"Bayan\"].corr(hasta[\"Erkek\"])\n",
    "# -1,1\n",
    "# -1,0 arası negatif yönlü korelasyon\n",
    "#  0,1 arası pozitif yönlü korelasyon"
   ]
  },
  {
   "cell_type": "code",
   "execution_count": 103,
   "id": "9aeb2e63",
   "metadata": {},
   "outputs": [
    {
     "data": {
      "text/plain": [
       "42.068575"
      ]
     },
     "execution_count": 103,
     "metadata": {},
     "output_type": "execute_result"
    }
   ],
   "source": [
    "hasta[\"Erkek\"].mean()"
   ]
  },
  {
   "cell_type": "code",
   "execution_count": 104,
   "id": "a75e377f",
   "metadata": {},
   "outputs": [
    {
     "data": {
      "text/plain": [
       "42.121525"
      ]
     },
     "execution_count": 104,
     "metadata": {},
     "output_type": "execute_result"
    }
   ],
   "source": [
    "hasta[\"Bayan\"].mean()"
   ]
  },
  {
   "cell_type": "code",
   "execution_count": 107,
   "id": "4a793397",
   "metadata": {},
   "outputs": [
    {
     "data": {
      "image/png": "[encoded data removed]",
      "text/plain": [
       "<Figure size 432x288 with 1 Axes>"
      ]
     },
     "metadata": {
      "needs_background": "light"
     },
     "output_type": "display_data"
    }
   ],
   "source": [
    "import seaborn as sns\n",
    "sns.histplot(hasta);"
   ]
  },
  {
   "cell_type": "code",
   "execution_count": null,
   "id": "f1fc8831",
   "metadata": {},
   "outputs": [],
   "source": []
  },
  {
   "cell_type": "code",
   "execution_count": null,
   "id": "7026e64c",
   "metadata": {},
   "outputs": [],
   "source": []
  },
  {
   "cell_type": "code",
   "execution_count": null,
   "id": "8364d14e",
   "metadata": {},
   "outputs": [],
   "source": []
  },
  {
   "cell_type": "code",
   "execution_count": null,
   "id": "42c3ebd2",
   "metadata": {},
   "outputs": [],
   "source": []
  },
  {
   "cell_type": "code",
   "execution_count": null,
   "id": "9db7bfde",
   "metadata": {},
   "outputs": [],
   "source": []
  },
  {
   "cell_type": "code",
   "execution_count": null,
   "id": "2aff3245",
   "metadata": {},
   "outputs": [],
   "source": []
  },
  {
   "cell_type": "code",
   "execution_count": null,
   "id": "fddca89e",
   "metadata": {},
   "outputs": [],
   "source": []
  },
  {
   "cell_type": "code",
   "execution_count": null,
   "id": "e3a3df08",
   "metadata": {},
   "outputs": [],
   "source": []
  },
  {
   "cell_type": "code",
   "execution_count": null,
   "id": "25f8893f",
   "metadata": {},
   "outputs": [],
   "source": []
  },
  {
   "cell_type": "code",
   "execution_count": null,
   "id": "d13d45c0",
   "metadata": {},
   "outputs": [],
   "source": []
  },
  {
   "cell_type": "code",
   "execution_count": null,
   "id": "be98557c",
   "metadata": {},
   "outputs": [],
   "source": []
  },
  {
   "cell_type": "code",
   "execution_count": null,
   "id": "6216f051",
   "metadata": {},
   "outputs": [],
   "source": []
  },
  {
   "cell_type": "code",
   "execution_count": null,
   "id": "e054290a",
   "metadata": {},
   "outputs": [],
   "source": []
  },
  {
   "cell_type": "code",
   "execution_count": null,
   "id": "fdace777",
   "metadata": {},
   "outputs": [],
   "source": []
  },
  {
   "cell_type": "code",
   "execution_count": null,
   "id": "a2762781",
   "metadata": {},
   "outputs": [],
   "source": []
  },
  {
   "cell_type": "code",
   "execution_count": null,
   "id": "1a89493a",
   "metadata": {},
   "outputs": [],
   "source": []
  },
  {
   "cell_type": "code",
   "execution_count": null,
   "id": "1597074c",
   "metadata": {},
   "outputs": [],
   "source": []
  },
  {
   "cell_type": "code",
   "execution_count": null,
   "id": "47011a5d",
   "metadata": {},
   "outputs": [],
   "source": []
  },
  {
   "cell_type": "code",
   "execution_count": null,
   "id": "6c4e9093",
   "metadata": {},
   "outputs": [],
   "source": []
  },
  {
   "cell_type": "code",
   "execution_count": null,
   "id": "f0c2d667",
   "metadata": {},
   "outputs": [],
   "source": []
  },
  {
   "cell_type": "code",
   "execution_count": null,
   "id": "f7271c71",
   "metadata": {},
   "outputs": [],
   "source": []
  }
 ],
 "metadata": {
  "kernelspec": {
   "display_name": "Python 3",
   "language": "python",
   "name": "python3"
  },
  "language_info": {
   "codemirror_mode": {
    "name": "ipython",
    "version": 3
   },
   "file_extension": ".py",
   "mimetype": "text/x-python",
   "name": "python",
   "nbconvert_exporter": "python",
   "pygments_lexer": "ipython3",
   "version": "3.8.8"
  }
 },
 "nbformat": 4,
 "nbformat_minor": 5
}
