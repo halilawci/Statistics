{
 "cells": [
  {
   "cell_type": "code",
   "execution_count": null,
   "id": "831d1ba0",
   "metadata": {},
   "outputs": [],
   "source": [
    "# İSTATİSTİĞE GİRİŞ"
   ]
  },
  {
   "cell_type": "code",
   "execution_count": 30,
   "id": "4234a45e",
   "metadata": {},
   "outputs": [],
   "source": [
    "import numpy as np\n",
    "import pandas as pd\n",
    "from math import factorial"
   ]
  },
  {
   "cell_type": "code",
   "execution_count": 1,
   "id": "7494a45c",
   "metadata": {},
   "outputs": [],
   "source": [
    "# aritmetik ortalama : (sayıların toplamı) / (sayı adedi)\n",
    "# varyans            : [(sayı - aritmetik ortalama)**2 + tüm sayılar için ] / (sayı adedi -1)\n",
    "# standart sapma     : varyansın karekökü"
   ]
  },
  {
   "cell_type": "code",
   "execution_count": 2,
   "id": "5479547d",
   "metadata": {},
   "outputs": [
    {
     "data": {
      "text/plain": [
       "7.2"
      ]
     },
     "execution_count": 2,
     "metadata": {},
     "output_type": "execute_result"
    }
   ],
   "source": [
    "(10+8+7+6+5)/5"
   ]
  },
  {
   "cell_type": "code",
   "execution_count": 3,
   "id": "385bc1da",
   "metadata": {},
   "outputs": [
    {
     "data": {
      "text/plain": [
       "7.839999999999999"
      ]
     },
     "execution_count": 3,
     "metadata": {},
     "output_type": "execute_result"
    }
   ],
   "source": [
    "((10-7.2)**2)"
   ]
  },
  {
   "cell_type": "code",
   "execution_count": 4,
   "id": "fc34efed",
   "metadata": {},
   "outputs": [],
   "source": [
    "# örneklem modelleme (her bir değişkeni tek tek incelemektense örneklem grupları oluşturulur.)"
   ]
  },
  {
   "cell_type": "code",
   "execution_count": 7,
   "id": "2857ed56",
   "metadata": {},
   "outputs": [],
   "source": [
    "populasyon = np.random.randint(10,80,size=100000)"
   ]
  },
  {
   "cell_type": "code",
   "execution_count": 8,
   "id": "91c62478",
   "metadata": {},
   "outputs": [],
   "source": [
    "np.random.seed(115) # 100 den büyük farklı örneklem sayısı için tüm örneklerin farklı değerleri olması için (101 de olur)"
   ]
  },
  {
   "cell_type": "code",
   "execution_count": 15,
   "id": "2ce7afac",
   "metadata": {},
   "outputs": [],
   "source": [
    "orneklem1 = np.random.choice(a=populasyon, size = 100) # a yı yazmaya gerek yok"
   ]
  },
  {
   "cell_type": "code",
   "execution_count": 16,
   "id": "0fbd2193",
   "metadata": {},
   "outputs": [
    {
     "data": {
      "text/plain": [
       "44.21"
      ]
     },
     "execution_count": 16,
     "metadata": {},
     "output_type": "execute_result"
    }
   ],
   "source": [
    "orneklem1.mean()"
   ]
  },
  {
   "cell_type": "code",
   "execution_count": 11,
   "id": "66732bdc",
   "metadata": {},
   "outputs": [
    {
     "data": {
      "text/plain": [
       "44.5071"
      ]
     },
     "execution_count": 11,
     "metadata": {},
     "output_type": "execute_result"
    }
   ],
   "source": [
    "populasyon.mean()"
   ]
  },
  {
   "cell_type": "code",
   "execution_count": 17,
   "id": "55e0b105",
   "metadata": {},
   "outputs": [
    {
     "data": {
      "text/plain": [
       "2.2971000000000004"
      ]
     },
     "execution_count": 17,
     "metadata": {},
     "output_type": "execute_result"
    }
   ],
   "source": [
    "44.5071-42.21 # tek örnek arasındaki fark"
   ]
  },
  {
   "cell_type": "code",
   "execution_count": null,
   "id": "b4f7b851",
   "metadata": {},
   "outputs": [],
   "source": [
    "# örneklem sayısı arttıkça ana populasyındaki (asıl verideki) orana, değere (ana değere) daha çok yaklaşırız."
   ]
  },
  {
   "cell_type": "code",
   "execution_count": 19,
   "id": "7684cca4",
   "metadata": {},
   "outputs": [],
   "source": [
    "orneklem1 = np.random.choice(a=populasyon, size = 100)\n",
    "orneklem2 = np.random.choice(a=populasyon, size = 100)\n",
    "orneklem3 = np.random.choice(a=populasyon, size = 100)\n",
    "orneklem4 = np.random.choice(a=populasyon, size = 100)\n",
    "orneklem5 = np.random.choice(a=populasyon, size = 100)\n",
    "orneklem6 = np.random.choice(a=populasyon, size = 100)\n",
    "orneklem7 = np.random.choice(a=populasyon, size = 100)\n",
    "orneklem8 = np.random.choice(a=populasyon, size = 100)\n",
    "orneklem9 = np.random.choice(a=populasyon, size = 100)\n",
    "orneklem10 = np.random.choice(a=populasyon, size = 100)"
   ]
  },
  {
   "cell_type": "code",
   "execution_count": 23,
   "id": "b100fe79",
   "metadata": {},
   "outputs": [
    {
     "data": {
      "text/plain": [
       "44.112"
      ]
     },
     "execution_count": 23,
     "metadata": {},
     "output_type": "execute_result"
    }
   ],
   "source": [
    "((orneklem1.mean()+orneklem2.mean()+orneklem3.mean()+orneklem4.mean()+orneklem5.mean()+orneklem6.mean()+\n",
    "  orneklem7.mean()+orneklem8.mean()+orneklem9.mean()+orneklem10.mean()))/10"
   ]
  },
  {
   "cell_type": "code",
   "execution_count": 24,
   "id": "82f1f190",
   "metadata": {},
   "outputs": [
    {
     "data": {
      "text/plain": [
       "44.5071"
      ]
     },
     "execution_count": 24,
     "metadata": {},
     "output_type": "execute_result"
    }
   ],
   "source": [
    "populasyon.mean()"
   ]
  },
  {
   "cell_type": "code",
   "execution_count": 25,
   "id": "70f9f324",
   "metadata": {},
   "outputs": [
    {
     "data": {
      "text/plain": [
       "45.41"
      ]
     },
     "execution_count": 25,
     "metadata": {},
     "output_type": "execute_result"
    }
   ],
   "source": [
    "orneklem1.mean()"
   ]
  },
  {
   "cell_type": "code",
   "execution_count": null,
   "id": "873aaee9",
   "metadata": {},
   "outputs": [],
   "source": [
    "# yukarıda görüldüğü gibi fazla örneklemin ortalaması ana populasyondaki sonuca yaklaşır."
   ]
  },
  {
   "cell_type": "code",
   "execution_count": null,
   "id": "bcbc6e1f",
   "metadata": {},
   "outputs": [],
   "source": [
    "# kovaryans : iki değişen arasındaki ilişkisel oranları inceler. Bir değişken artar veya azalırken diğer değişken de doğru\n",
    "# orantıda artıp azalıyorsa pozitif yönlüdür. "
   ]
  },
  {
   "cell_type": "code",
   "execution_count": 32,
   "id": "58f6fba2",
   "metadata": {},
   "outputs": [
    {
     "data": {
      "text/html": [
       "<div>\n",
       "<style scoped>\n",
       "    .dataframe tbody tr th:only-of-type {\n",
       "        vertical-align: middle;\n",
       "    }\n",
       "\n",
       "    .dataframe tbody tr th {\n",
       "        vertical-align: top;\n",
       "    }\n",
       "\n",
       "    .dataframe thead th {\n",
       "        text-align: right;\n",
       "    }\n",
       "</style>\n",
       "<table border=\"1\" class=\"dataframe\">\n",
       "  <thead>\n",
       "    <tr style=\"text-align: right;\">\n",
       "      <th></th>\n",
       "      <th>deg1</th>\n",
       "      <th>deg2</th>\n",
       "    </tr>\n",
       "  </thead>\n",
       "  <tbody>\n",
       "    <tr>\n",
       "      <th>0</th>\n",
       "      <td>22</td>\n",
       "      <td>14</td>\n",
       "    </tr>\n",
       "    <tr>\n",
       "      <th>1</th>\n",
       "      <td>13</td>\n",
       "      <td>18</td>\n",
       "    </tr>\n",
       "    <tr>\n",
       "      <th>2</th>\n",
       "      <td>25</td>\n",
       "      <td>8</td>\n",
       "    </tr>\n",
       "    <tr>\n",
       "      <th>3</th>\n",
       "      <td>16</td>\n",
       "      <td>27</td>\n",
       "    </tr>\n",
       "    <tr>\n",
       "      <th>4</th>\n",
       "      <td>28</td>\n",
       "      <td>10</td>\n",
       "    </tr>\n",
       "  </tbody>\n",
       "</table>\n",
       "</div>"
      ],
      "text/plain": [
       "   deg1  deg2\n",
       "0    22    14\n",
       "1    13    18\n",
       "2    25     8\n",
       "3    16    27\n",
       "4    28    10"
      ]
     },
     "execution_count": 32,
     "metadata": {},
     "output_type": "execute_result"
    }
   ],
   "source": [
    "df=pd.DataFrame(np.random.randint(2,30, size=(5,2)), columns=[\"deg1\",\"deg2\"])\n",
    "df"
   ]
  },
  {
   "cell_type": "code",
   "execution_count": 33,
   "id": "aee46393",
   "metadata": {},
   "outputs": [
    {
     "data": {
      "text/plain": [
       "20.8"
      ]
     },
     "execution_count": 33,
     "metadata": {},
     "output_type": "execute_result"
    }
   ],
   "source": [
    "df[\"deg1\"].mean()"
   ]
  },
  {
   "cell_type": "code",
   "execution_count": 34,
   "id": "d33add84",
   "metadata": {},
   "outputs": [
    {
     "data": {
      "text/plain": [
       "15.4"
      ]
     },
     "execution_count": 34,
     "metadata": {},
     "output_type": "execute_result"
    }
   ],
   "source": [
    "df[\"deg2\"].mean()"
   ]
  },
  {
   "cell_type": "code",
   "execution_count": 38,
   "id": "bd0af841",
   "metadata": {},
   "outputs": [
    {
     "data": {
      "text/plain": [
       "0    1.2\n",
       "1   -7.8\n",
       "2    4.2\n",
       "3   -4.8\n",
       "4    7.2\n",
       "Name: deg1, dtype: float64"
      ]
     },
     "execution_count": 38,
     "metadata": {},
     "output_type": "execute_result"
    }
   ],
   "source": [
    "a = df[\"deg1\"]-(df[\"deg1\"].mean())\n",
    "a"
   ]
  },
  {
   "cell_type": "code",
   "execution_count": 39,
   "id": "4a4bfddb",
   "metadata": {},
   "outputs": [
    {
     "data": {
      "text/plain": [
       "0    -1.4\n",
       "1     2.6\n",
       "2    -7.4\n",
       "3    11.6\n",
       "4    -5.4\n",
       "Name: deg2, dtype: float64"
      ]
     },
     "execution_count": 39,
     "metadata": {},
     "output_type": "execute_result"
    }
   ],
   "source": [
    "b = df[\"deg2\"]-(df[\"deg2\"].mean())\n",
    "b"
   ]
  },
  {
   "cell_type": "code",
   "execution_count": 40,
   "id": "bdbd4244",
   "metadata": {},
   "outputs": [
    {
     "data": {
      "text/plain": [
       "0    -1.68\n",
       "1   -20.28\n",
       "2   -31.08\n",
       "3   -55.68\n",
       "4   -38.88\n",
       "dtype: float64"
      ]
     },
     "execution_count": 40,
     "metadata": {},
     "output_type": "execute_result"
    }
   ],
   "source": [
    "c = a*b\n",
    "c"
   ]
  },
  {
   "cell_type": "code",
   "execution_count": 41,
   "id": "d65f0d79",
   "metadata": {},
   "outputs": [
    {
     "data": {
      "text/plain": [
       "-29.52"
      ]
     },
     "execution_count": 41,
     "metadata": {},
     "output_type": "execute_result"
    }
   ],
   "source": [
    "kovaryans=(c.sum())/5\n",
    "kovaryans"
   ]
  },
  {
   "cell_type": "code",
   "execution_count": null,
   "id": "f8f5285f",
   "metadata": {},
   "outputs": [],
   "source": [
    "# bu iki tablo arasındaki ilişki negatif kovaryanstır. (ters orantı)"
   ]
  },
  {
   "cell_type": "code",
   "execution_count": null,
   "id": "f5b0df84",
   "metadata": {},
   "outputs": [],
   "source": [
    "# korelasyon iki değişken arasındaki ilişkinin durumunu inceler\n",
    "# -1 ve +1 arasında değer alır.\n",
    "# 0 ve 1 arasında değer pozitif korelasyon, -1 ve 0 arasında negatif korelasyon vardır."
   ]
  },
  {
   "cell_type": "code",
   "execution_count": 47,
   "id": "ff8a3eaa",
   "metadata": {},
   "outputs": [],
   "source": [
    "x = df[\"deg1\"]-(df[\"deg1\"].mean())\n",
    "y = df[\"deg2\"]-(df[\"deg2\"].mean())\n",
    "# 1 ve ikinci tablodaki değerlerden ortalamalarını çıkardık."
   ]
  },
  {
   "cell_type": "code",
   "execution_count": 48,
   "id": "5ffebf9e",
   "metadata": {},
   "outputs": [
    {
     "data": {
      "text/plain": [
       "0    1.2\n",
       "1   -7.8\n",
       "2    4.2\n",
       "3   -4.8\n",
       "4    7.2\n",
       "Name: deg1, dtype: float64"
      ]
     },
     "execution_count": 48,
     "metadata": {},
     "output_type": "execute_result"
    }
   ],
   "source": [
    "x"
   ]
  },
  {
   "cell_type": "code",
   "execution_count": 49,
   "id": "22210756",
   "metadata": {},
   "outputs": [
    {
     "data": {
      "text/plain": [
       "0    -1.4\n",
       "1     2.6\n",
       "2    -7.4\n",
       "3    11.6\n",
       "4    -5.4\n",
       "Name: deg2, dtype: float64"
      ]
     },
     "execution_count": 49,
     "metadata": {},
     "output_type": "execute_result"
    }
   ],
   "source": [
    "y"
   ]
  },
  {
   "cell_type": "code",
   "execution_count": 50,
   "id": "e424d6e1",
   "metadata": {},
   "outputs": [
    {
     "data": {
      "text/plain": [
       "0     1.44\n",
       "1    60.84\n",
       "2    17.64\n",
       "3    23.04\n",
       "4    51.84\n",
       "Name: deg1, dtype: float64"
      ]
     },
     "execution_count": 50,
     "metadata": {},
     "output_type": "execute_result"
    }
   ],
   "source": [
    "x_kare = x ** 2\n",
    "x_kare"
   ]
  },
  {
   "cell_type": "code",
   "execution_count": 51,
   "id": "1cbd8e19",
   "metadata": {},
   "outputs": [
    {
     "data": {
      "text/plain": [
       "0      1.96\n",
       "1      6.76\n",
       "2     54.76\n",
       "3    134.56\n",
       "4     29.16\n",
       "Name: deg2, dtype: float64"
      ]
     },
     "execution_count": 51,
     "metadata": {},
     "output_type": "execute_result"
    }
   ],
   "source": [
    "y_kare = y ** 2\n",
    "y_kare"
   ]
  },
  {
   "cell_type": "code",
   "execution_count": 53,
   "id": "bfd3dc28",
   "metadata": {},
   "outputs": [
    {
     "data": {
      "text/plain": [
       "0    -1.68\n",
       "1   -20.28\n",
       "2   -31.08\n",
       "3   -55.68\n",
       "4   -38.88\n",
       "dtype: float64"
      ]
     },
     "execution_count": 53,
     "metadata": {},
     "output_type": "execute_result"
    }
   ],
   "source": [
    "carpım = x * y\n",
    "carpım"
   ]
  },
  {
   "cell_type": "code",
   "execution_count": 54,
   "id": "bb929917",
   "metadata": {},
   "outputs": [],
   "source": [
    "carpım_toplam = carpım.sum()\n",
    "x_kare_toplam = x_kare.sum()\n",
    "y_kare_toplam = y_kare.sum()"
   ]
  },
  {
   "cell_type": "code",
   "execution_count": 55,
   "id": "697c7154",
   "metadata": {},
   "outputs": [
    {
     "data": {
      "text/plain": [
       "-0.7870398379486128"
      ]
     },
     "execution_count": 55,
     "metadata": {},
     "output_type": "execute_result"
    }
   ],
   "source": [
    "korelasyon = carpım_toplam / ((x_kare_toplam * y_kare_toplam)**0.5)\n",
    "korelasyon"
   ]
  },
  {
   "cell_type": "code",
   "execution_count": 56,
   "id": "4399dd00",
   "metadata": {},
   "outputs": [],
   "source": [
    "# ters yönlü negatif yüksek bir ilişki vardır."
   ]
  },
  {
   "cell_type": "code",
   "execution_count": null,
   "id": "0132e0e4",
   "metadata": {},
   "outputs": [],
   "source": [
    "# kovaryans formülü python içinde kullanımı"
   ]
  },
  {
   "cell_type": "code",
   "execution_count": 57,
   "id": "b3431d7e",
   "metadata": {},
   "outputs": [
    {
     "data": {
      "text/html": [
       "<div>\n",
       "<style scoped>\n",
       "    .dataframe tbody tr th:only-of-type {\n",
       "        vertical-align: middle;\n",
       "    }\n",
       "\n",
       "    .dataframe tbody tr th {\n",
       "        vertical-align: top;\n",
       "    }\n",
       "\n",
       "    .dataframe thead th {\n",
       "        text-align: right;\n",
       "    }\n",
       "</style>\n",
       "<table border=\"1\" class=\"dataframe\">\n",
       "  <thead>\n",
       "    <tr style=\"text-align: right;\">\n",
       "      <th></th>\n",
       "      <th>deg1</th>\n",
       "      <th>deg2</th>\n",
       "    </tr>\n",
       "  </thead>\n",
       "  <tbody>\n",
       "    <tr>\n",
       "      <th>deg1</th>\n",
       "      <td>38.7</td>\n",
       "      <td>-36.9</td>\n",
       "    </tr>\n",
       "    <tr>\n",
       "      <th>deg2</th>\n",
       "      <td>-36.9</td>\n",
       "      <td>56.8</td>\n",
       "    </tr>\n",
       "  </tbody>\n",
       "</table>\n",
       "</div>"
      ],
      "text/plain": [
       "      deg1  deg2\n",
       "deg1  38.7 -36.9\n",
       "deg2 -36.9  56.8"
      ]
     },
     "execution_count": 57,
     "metadata": {},
     "output_type": "execute_result"
    }
   ],
   "source": [
    "df[[\"deg1\", \"deg2\"]].cov()"
   ]
  },
  {
   "cell_type": "code",
   "execution_count": 58,
   "id": "b67e7623",
   "metadata": {},
   "outputs": [
    {
     "data": {
      "text/html": [
       "<div>\n",
       "<style scoped>\n",
       "    .dataframe tbody tr th:only-of-type {\n",
       "        vertical-align: middle;\n",
       "    }\n",
       "\n",
       "    .dataframe tbody tr th {\n",
       "        vertical-align: top;\n",
       "    }\n",
       "\n",
       "    .dataframe thead th {\n",
       "        text-align: right;\n",
       "    }\n",
       "</style>\n",
       "<table border=\"1\" class=\"dataframe\">\n",
       "  <thead>\n",
       "    <tr style=\"text-align: right;\">\n",
       "      <th></th>\n",
       "      <th>deg1</th>\n",
       "    </tr>\n",
       "  </thead>\n",
       "  <tbody>\n",
       "    <tr>\n",
       "      <th>deg1</th>\n",
       "      <td>38.7</td>\n",
       "    </tr>\n",
       "  </tbody>\n",
       "</table>\n",
       "</div>"
      ],
      "text/plain": [
       "      deg1\n",
       "deg1  38.7"
      ]
     },
     "execution_count": 58,
     "metadata": {},
     "output_type": "execute_result"
    }
   ],
   "source": [
    "df[[\"deg1\"]].cov()"
   ]
  },
  {
   "cell_type": "code",
   "execution_count": 59,
   "id": "06b93665",
   "metadata": {},
   "outputs": [
    {
     "data": {
      "text/html": [
       "<div>\n",
       "<style scoped>\n",
       "    .dataframe tbody tr th:only-of-type {\n",
       "        vertical-align: middle;\n",
       "    }\n",
       "\n",
       "    .dataframe tbody tr th {\n",
       "        vertical-align: top;\n",
       "    }\n",
       "\n",
       "    .dataframe thead th {\n",
       "        text-align: right;\n",
       "    }\n",
       "</style>\n",
       "<table border=\"1\" class=\"dataframe\">\n",
       "  <thead>\n",
       "    <tr style=\"text-align: right;\">\n",
       "      <th></th>\n",
       "      <th>deg2</th>\n",
       "    </tr>\n",
       "  </thead>\n",
       "  <tbody>\n",
       "    <tr>\n",
       "      <th>deg2</th>\n",
       "      <td>56.8</td>\n",
       "    </tr>\n",
       "  </tbody>\n",
       "</table>\n",
       "</div>"
      ],
      "text/plain": [
       "      deg2\n",
       "deg2  56.8"
      ]
     },
     "execution_count": 59,
     "metadata": {},
     "output_type": "execute_result"
    }
   ],
   "source": [
    "df[[\"deg2\"]].cov()"
   ]
  },
  {
   "cell_type": "code",
   "execution_count": null,
   "id": "bbb842d5",
   "metadata": {},
   "outputs": [],
   "source": [
    "# korelasyon formülü python içinde kullanımı"
   ]
  },
  {
   "cell_type": "code",
   "execution_count": 60,
   "id": "edaf43e9",
   "metadata": {},
   "outputs": [
    {
     "data": {
      "text/html": [
       "<div>\n",
       "<style scoped>\n",
       "    .dataframe tbody tr th:only-of-type {\n",
       "        vertical-align: middle;\n",
       "    }\n",
       "\n",
       "    .dataframe tbody tr th {\n",
       "        vertical-align: top;\n",
       "    }\n",
       "\n",
       "    .dataframe thead th {\n",
       "        text-align: right;\n",
       "    }\n",
       "</style>\n",
       "<table border=\"1\" class=\"dataframe\">\n",
       "  <thead>\n",
       "    <tr style=\"text-align: right;\">\n",
       "      <th></th>\n",
       "      <th>deg1</th>\n",
       "    </tr>\n",
       "  </thead>\n",
       "  <tbody>\n",
       "    <tr>\n",
       "      <th>deg1</th>\n",
       "      <td>1.0</td>\n",
       "    </tr>\n",
       "  </tbody>\n",
       "</table>\n",
       "</div>"
      ],
      "text/plain": [
       "      deg1\n",
       "deg1   1.0"
      ]
     },
     "execution_count": 60,
     "metadata": {},
     "output_type": "execute_result"
    }
   ],
   "source": [
    "df[[\"deg1\"]].corr()"
   ]
  },
  {
   "cell_type": "code",
   "execution_count": 61,
   "id": "33a48354",
   "metadata": {},
   "outputs": [
    {
     "data": {
      "text/html": [
       "<div>\n",
       "<style scoped>\n",
       "    .dataframe tbody tr th:only-of-type {\n",
       "        vertical-align: middle;\n",
       "    }\n",
       "\n",
       "    .dataframe tbody tr th {\n",
       "        vertical-align: top;\n",
       "    }\n",
       "\n",
       "    .dataframe thead th {\n",
       "        text-align: right;\n",
       "    }\n",
       "</style>\n",
       "<table border=\"1\" class=\"dataframe\">\n",
       "  <thead>\n",
       "    <tr style=\"text-align: right;\">\n",
       "      <th></th>\n",
       "      <th>deg2</th>\n",
       "    </tr>\n",
       "  </thead>\n",
       "  <tbody>\n",
       "    <tr>\n",
       "      <th>deg2</th>\n",
       "      <td>1.0</td>\n",
       "    </tr>\n",
       "  </tbody>\n",
       "</table>\n",
       "</div>"
      ],
      "text/plain": [
       "      deg2\n",
       "deg2   1.0"
      ]
     },
     "execution_count": 61,
     "metadata": {},
     "output_type": "execute_result"
    }
   ],
   "source": [
    "df[[\"deg2\"]].corr()"
   ]
  },
  {
   "cell_type": "code",
   "execution_count": 62,
   "id": "a4fba3d1",
   "metadata": {},
   "outputs": [
    {
     "data": {
      "text/html": [
       "<div>\n",
       "<style scoped>\n",
       "    .dataframe tbody tr th:only-of-type {\n",
       "        vertical-align: middle;\n",
       "    }\n",
       "\n",
       "    .dataframe tbody tr th {\n",
       "        vertical-align: top;\n",
       "    }\n",
       "\n",
       "    .dataframe thead th {\n",
       "        text-align: right;\n",
       "    }\n",
       "</style>\n",
       "<table border=\"1\" class=\"dataframe\">\n",
       "  <thead>\n",
       "    <tr style=\"text-align: right;\">\n",
       "      <th></th>\n",
       "      <th>deg1</th>\n",
       "      <th>deg2</th>\n",
       "    </tr>\n",
       "  </thead>\n",
       "  <tbody>\n",
       "    <tr>\n",
       "      <th>deg1</th>\n",
       "      <td>1.00000</td>\n",
       "      <td>-0.78704</td>\n",
       "    </tr>\n",
       "    <tr>\n",
       "      <th>deg2</th>\n",
       "      <td>-0.78704</td>\n",
       "      <td>1.00000</td>\n",
       "    </tr>\n",
       "  </tbody>\n",
       "</table>\n",
       "</div>"
      ],
      "text/plain": [
       "         deg1     deg2\n",
       "deg1  1.00000 -0.78704\n",
       "deg2 -0.78704  1.00000"
      ]
     },
     "execution_count": 62,
     "metadata": {},
     "output_type": "execute_result"
    }
   ],
   "source": [
    "df[[\"deg1\", \"deg2\"]].corr()"
   ]
  },
  {
   "cell_type": "code",
   "execution_count": 64,
   "id": "5563b507",
   "metadata": {},
   "outputs": [],
   "source": [
    "import seaborn as sns"
   ]
  },
  {
   "cell_type": "code",
   "execution_count": null,
   "id": "93d4345d",
   "metadata": {},
   "outputs": [],
   "source": [
    "# büyük datalar ile çalışalım"
   ]
  },
  {
   "cell_type": "code",
   "execution_count": 65,
   "id": "2ae80495",
   "metadata": {},
   "outputs": [
    {
     "data": {
      "text/html": [
       "<div>\n",
       "<style scoped>\n",
       "    .dataframe tbody tr th:only-of-type {\n",
       "        vertical-align: middle;\n",
       "    }\n",
       "\n",
       "    .dataframe tbody tr th {\n",
       "        vertical-align: top;\n",
       "    }\n",
       "\n",
       "    .dataframe thead th {\n",
       "        text-align: right;\n",
       "    }\n",
       "</style>\n",
       "<table border=\"1\" class=\"dataframe\">\n",
       "  <thead>\n",
       "    <tr style=\"text-align: right;\">\n",
       "      <th></th>\n",
       "      <th>total_bill</th>\n",
       "      <th>tip</th>\n",
       "      <th>sex</th>\n",
       "      <th>smoker</th>\n",
       "      <th>day</th>\n",
       "      <th>time</th>\n",
       "      <th>size</th>\n",
       "    </tr>\n",
       "  </thead>\n",
       "  <tbody>\n",
       "    <tr>\n",
       "      <th>0</th>\n",
       "      <td>16.99</td>\n",
       "      <td>1.01</td>\n",
       "      <td>Female</td>\n",
       "      <td>No</td>\n",
       "      <td>Sun</td>\n",
       "      <td>Dinner</td>\n",
       "      <td>2</td>\n",
       "    </tr>\n",
       "    <tr>\n",
       "      <th>1</th>\n",
       "      <td>10.34</td>\n",
       "      <td>1.66</td>\n",
       "      <td>Male</td>\n",
       "      <td>No</td>\n",
       "      <td>Sun</td>\n",
       "      <td>Dinner</td>\n",
       "      <td>3</td>\n",
       "    </tr>\n",
       "    <tr>\n",
       "      <th>2</th>\n",
       "      <td>21.01</td>\n",
       "      <td>3.50</td>\n",
       "      <td>Male</td>\n",
       "      <td>No</td>\n",
       "      <td>Sun</td>\n",
       "      <td>Dinner</td>\n",
       "      <td>3</td>\n",
       "    </tr>\n",
       "    <tr>\n",
       "      <th>3</th>\n",
       "      <td>23.68</td>\n",
       "      <td>3.31</td>\n",
       "      <td>Male</td>\n",
       "      <td>No</td>\n",
       "      <td>Sun</td>\n",
       "      <td>Dinner</td>\n",
       "      <td>2</td>\n",
       "    </tr>\n",
       "    <tr>\n",
       "      <th>4</th>\n",
       "      <td>24.59</td>\n",
       "      <td>3.61</td>\n",
       "      <td>Female</td>\n",
       "      <td>No</td>\n",
       "      <td>Sun</td>\n",
       "      <td>Dinner</td>\n",
       "      <td>4</td>\n",
       "    </tr>\n",
       "  </tbody>\n",
       "</table>\n",
       "</div>"
      ],
      "text/plain": [
       "   total_bill   tip     sex smoker  day    time  size\n",
       "0       16.99  1.01  Female     No  Sun  Dinner     2\n",
       "1       10.34  1.66    Male     No  Sun  Dinner     3\n",
       "2       21.01  3.50    Male     No  Sun  Dinner     3\n",
       "3       23.68  3.31    Male     No  Sun  Dinner     2\n",
       "4       24.59  3.61  Female     No  Sun  Dinner     4"
      ]
     },
     "execution_count": 65,
     "metadata": {},
     "output_type": "execute_result"
    }
   ],
   "source": [
    "df = sns.load_dataset(\"tips\")\n",
    "df.head()"
   ]
  },
  {
   "cell_type": "code",
   "execution_count": null,
   "id": "2643c323",
   "metadata": {},
   "outputs": [],
   "source": [
    "# iki değer arasındaki ilişki için cov()"
   ]
  },
  {
   "cell_type": "code",
   "execution_count": 66,
   "id": "fbea748d",
   "metadata": {
    "scrolled": true
   },
   "outputs": [
    {
     "data": {
      "text/html": [
       "<div>\n",
       "<style scoped>\n",
       "    .dataframe tbody tr th:only-of-type {\n",
       "        vertical-align: middle;\n",
       "    }\n",
       "\n",
       "    .dataframe tbody tr th {\n",
       "        vertical-align: top;\n",
       "    }\n",
       "\n",
       "    .dataframe thead th {\n",
       "        text-align: right;\n",
       "    }\n",
       "</style>\n",
       "<table border=\"1\" class=\"dataframe\">\n",
       "  <thead>\n",
       "    <tr style=\"text-align: right;\">\n",
       "      <th></th>\n",
       "      <th>total_bill</th>\n",
       "      <th>tip</th>\n",
       "    </tr>\n",
       "  </thead>\n",
       "  <tbody>\n",
       "    <tr>\n",
       "      <th>total_bill</th>\n",
       "      <td>79.252939</td>\n",
       "      <td>8.323502</td>\n",
       "    </tr>\n",
       "    <tr>\n",
       "      <th>tip</th>\n",
       "      <td>8.323502</td>\n",
       "      <td>1.914455</td>\n",
       "    </tr>\n",
       "  </tbody>\n",
       "</table>\n",
       "</div>"
      ],
      "text/plain": [
       "            total_bill       tip\n",
       "total_bill   79.252939  8.323502\n",
       "tip           8.323502  1.914455"
      ]
     },
     "execution_count": 66,
     "metadata": {},
     "output_type": "execute_result"
    }
   ],
   "source": [
    "df[[\"total_bill\", \"tip\"]].cov()"
   ]
  },
  {
   "cell_type": "code",
   "execution_count": null,
   "id": "395a6ef1",
   "metadata": {},
   "outputs": [],
   "source": [
    "# arasında doğru ilişki var"
   ]
  },
  {
   "cell_type": "code",
   "execution_count": 67,
   "id": "e3e0fa4b",
   "metadata": {},
   "outputs": [
    {
     "data": {
      "text/html": [
       "<div>\n",
       "<style scoped>\n",
       "    .dataframe tbody tr th:only-of-type {\n",
       "        vertical-align: middle;\n",
       "    }\n",
       "\n",
       "    .dataframe tbody tr th {\n",
       "        vertical-align: top;\n",
       "    }\n",
       "\n",
       "    .dataframe thead th {\n",
       "        text-align: right;\n",
       "    }\n",
       "</style>\n",
       "<table border=\"1\" class=\"dataframe\">\n",
       "  <thead>\n",
       "    <tr style=\"text-align: right;\">\n",
       "      <th></th>\n",
       "      <th>total_bill</th>\n",
       "      <th>tip</th>\n",
       "    </tr>\n",
       "  </thead>\n",
       "  <tbody>\n",
       "    <tr>\n",
       "      <th>total_bill</th>\n",
       "      <td>1.000000</td>\n",
       "      <td>0.675734</td>\n",
       "    </tr>\n",
       "    <tr>\n",
       "      <th>tip</th>\n",
       "      <td>0.675734</td>\n",
       "      <td>1.000000</td>\n",
       "    </tr>\n",
       "  </tbody>\n",
       "</table>\n",
       "</div>"
      ],
      "text/plain": [
       "            total_bill       tip\n",
       "total_bill    1.000000  0.675734\n",
       "tip           0.675734  1.000000"
      ]
     },
     "execution_count": 67,
     "metadata": {},
     "output_type": "execute_result"
    }
   ],
   "source": [
    "df[[\"total_bill\", \"tip\"]].corr()"
   ]
  },
  {
   "cell_type": "code",
   "execution_count": null,
   "id": "923971e9",
   "metadata": {},
   "outputs": [],
   "source": [
    "# çok kuvvetli bir ilişki var"
   ]
  },
  {
   "cell_type": "code",
   "execution_count": null,
   "id": "7f9313f6",
   "metadata": {},
   "outputs": [],
   "source": []
  },
  {
   "cell_type": "code",
   "execution_count": 69,
   "id": "a35faf68",
   "metadata": {},
   "outputs": [
    {
     "data": {
      "text/plain": [
       "187.84"
      ]
     },
     "execution_count": 69,
     "metadata": {},
     "output_type": "execute_result"
    }
   ],
   "source": [
    "# Güven Aralıkları : bir web sitesinde geçirilen sürenin güven aralığı nedir?\n",
    "# n = kişi sayısı, arit_ort, standart_sapma, \n",
    "# n = 100, ort = 180, std = 40\n",
    "180 + 1.96 * 4\n",
    "# 172 -188 arasında %95 lik bir başarı var demektir."
   ]
  },
  {
   "cell_type": "code",
   "execution_count": null,
   "id": "1e45d31c",
   "metadata": {},
   "outputs": [],
   "source": [
    "# örnek "
   ]
  },
  {
   "cell_type": "code",
   "execution_count": null,
   "id": "8f5e44f2",
   "metadata": {},
   "outputs": [],
   "source": [
    "fiyat = np.random.randint()"
   ]
  },
  {
   "cell_type": "code",
   "execution_count": null,
   "id": "6cf46b49",
   "metadata": {},
   "outputs": [],
   "source": [
    "# buradan sonrası bende yok hocam, 20 dakika aradan sonrası bıraktım."
   ]
  },
  {
   "cell_type": "code",
   "execution_count": 70,
   "id": "9121dc3e",
   "metadata": {},
   "outputs": [],
   "source": [
    "# güven aralıkları konusundaki notebook başkasından kopyalamak gerek"
   ]
  },
  {
   "cell_type": "code",
   "execution_count": null,
   "id": "d07e9797",
   "metadata": {},
   "outputs": [],
   "source": []
  },
  {
   "cell_type": "code",
   "execution_count": 71,
   "id": "c60bffb9",
   "metadata": {},
   "outputs": [],
   "source": [
    "# Binom (Bernouilli): "
   ]
  },
  {
   "cell_type": "code",
   "execution_count": null,
   "id": "df66b0b6",
   "metadata": {},
   "outputs": [],
   "source": []
  },
  {
   "cell_type": "code",
   "execution_count": null,
   "id": "f792735a",
   "metadata": {},
   "outputs": [],
   "source": []
  },
  {
   "cell_type": "code",
   "execution_count": null,
   "id": "4e4e4fa5",
   "metadata": {},
   "outputs": [],
   "source": []
  },
  {
   "cell_type": "code",
   "execution_count": null,
   "id": "cc59eadc",
   "metadata": {},
   "outputs": [],
   "source": []
  }
 ],
 "metadata": {
  "kernelspec": {
   "display_name": "Python 3",
   "language": "python",
   "name": "python3"
  },
  "language_info": {
   "codemirror_mode": {
    "name": "ipython",
    "version": 3
   },
   "file_extension": ".py",
   "mimetype": "text/x-python",
   "name": "python",
   "nbconvert_exporter": "python",
   "pygments_lexer": "ipython3",
   "version": "3.8.8"
  }
 },
 "nbformat": 4,
 "nbformat_minor": 5
}
